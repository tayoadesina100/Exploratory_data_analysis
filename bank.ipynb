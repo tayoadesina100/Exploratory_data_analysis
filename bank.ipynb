{
 "cells": [
  {
   "cell_type": "markdown",
   "id": "2ebd26d8-87dd-4cdd-9a49-1234629a096b",
   "metadata": {},
   "source": [
    "### BANK EXPLORATION DATA ANALYSUS"
   ]
  },
  {
   "cell_type": "markdown",
   "id": "ba100066-4b44-45f4-9d20-8c87434442a8",
   "metadata": {},
   "source": [
    "### project objective"
   ]
  },
  {
   "cell_type": "markdown",
   "id": "96807941-5665-49b1-b964-b12dba68d4e7",
   "metadata": {},
   "source": [
    "\n",
    "### Importing libraries and dataset"
   ]
  },
  {
   "cell_type": "code",
   "execution_count": null,
   "id": "9efd490b-4364-4191-878c-f66cf0d9d438",
   "metadata": {},
   "outputs": [],
   "source": [
    "# data wrangling libraries\n",
    "import pandas as pd\n",
    "import numpy as np\n",
    "\n",
    "# visualization libraries\n",
    "import matplotlib.pyplot as plt\n",
    "import seaborn as sns\n",
    "import plotly.express as px\n",
    "\n",
    "#statistical analysis libraries\n",
    "import statsmodel.api as sm\n",
    "import statsmodel\n",
    "\n"
   ]
  }
 ],
 "metadata": {
  "kernelspec": {
   "display_name": "Python 3 (ipykernel)",
   "language": "python",
   "name": "python3"
  },
  "language_info": {
   "codemirror_mode": {
    "name": "ipython",
    "version": 3
   },
   "file_extension": ".py",
   "mimetype": "text/x-python",
   "name": "python",
   "nbconvert_exporter": "python",
   "pygments_lexer": "ipython3",
   "version": "3.11.7"
  }
 },
 "nbformat": 4,
 "nbformat_minor": 5
}
